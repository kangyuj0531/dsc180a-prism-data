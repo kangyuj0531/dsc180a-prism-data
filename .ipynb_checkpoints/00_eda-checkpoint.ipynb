{
 "cells": [
  {
   "cell_type": "markdown",
   "id": "470b87d3-1893-4460-8258-963f72fa0bf2",
   "metadata": {},
   "source": [
    "# Import Dataset"
   ]
  },
  {
   "cell_type": "code",
   "execution_count": 1,
   "id": "3750a7c9-86b4-4717-b880-70a9ead4088c",
   "metadata": {},
   "outputs": [],
   "source": [
    "import pandas as pd\n",
    "\n",
    "inflows = pd.read_parquet('/uss/hdsi-prismdata/q1-ucsd-inflows.pqt')\n",
    "outflows = pd.read_parquet('/uss/hdsi-prismdata/q1-ucsd-outflows.pqt')"
   ]
  },
  {
   "cell_type": "code",
   "execution_count": 2,
   "id": "6dfdd70a-bd3a-43f4-bafd-e2720cdf38d7",
   "metadata": {},
   "outputs": [
    {
     "data": {
      "text/html": [
       "<div>\n",
       "<style scoped>\n",
       "    .dataframe tbody tr th:only-of-type {\n",
       "        vertical-align: middle;\n",
       "    }\n",
       "\n",
       "    .dataframe tbody tr th {\n",
       "        vertical-align: top;\n",
       "    }\n",
       "\n",
       "    .dataframe thead th {\n",
       "        text-align: right;\n",
       "    }\n",
       "</style>\n",
       "<table border=\"1\" class=\"dataframe\">\n",
       "  <thead>\n",
       "    <tr style=\"text-align: right;\">\n",
       "      <th></th>\n",
       "      <th>prism_consumer_id</th>\n",
       "      <th>prism_account_id</th>\n",
       "      <th>memo</th>\n",
       "      <th>amount</th>\n",
       "      <th>posted_date</th>\n",
       "      <th>category</th>\n",
       "    </tr>\n",
       "  </thead>\n",
       "  <tbody>\n",
       "    <tr>\n",
       "      <th>0</th>\n",
       "      <td>0</td>\n",
       "      <td>acc_0</td>\n",
       "      <td>PAYCHECK</td>\n",
       "      <td>2477.02</td>\n",
       "      <td>2022-03-18</td>\n",
       "      <td>PAYCHECK</td>\n",
       "    </tr>\n",
       "    <tr>\n",
       "      <th>1</th>\n",
       "      <td>0</td>\n",
       "      <td>acc_0</td>\n",
       "      <td>EXTERNAL_TRANSFER</td>\n",
       "      <td>100.00</td>\n",
       "      <td>2022-10-25</td>\n",
       "      <td>EXTERNAL_TRANSFER</td>\n",
       "    </tr>\n",
       "    <tr>\n",
       "      <th>2</th>\n",
       "      <td>0</td>\n",
       "      <td>acc_0</td>\n",
       "      <td>MISCELLANEOUS</td>\n",
       "      <td>6.29</td>\n",
       "      <td>2022-08-26</td>\n",
       "      <td>MISCELLANEOUS</td>\n",
       "    </tr>\n",
       "    <tr>\n",
       "      <th>3</th>\n",
       "      <td>0</td>\n",
       "      <td>acc_0</td>\n",
       "      <td>EXTERNAL_TRANSFER</td>\n",
       "      <td>277.00</td>\n",
       "      <td>2022-06-03</td>\n",
       "      <td>EXTERNAL_TRANSFER</td>\n",
       "    </tr>\n",
       "    <tr>\n",
       "      <th>4</th>\n",
       "      <td>0</td>\n",
       "      <td>acc_0</td>\n",
       "      <td>EXTERNAL_TRANSFER</td>\n",
       "      <td>100.00</td>\n",
       "      <td>2022-07-29</td>\n",
       "      <td>EXTERNAL_TRANSFER</td>\n",
       "    </tr>\n",
       "    <tr>\n",
       "      <th>...</th>\n",
       "      <td>...</td>\n",
       "      <td>...</td>\n",
       "      <td>...</td>\n",
       "      <td>...</td>\n",
       "      <td>...</td>\n",
       "      <td>...</td>\n",
       "    </tr>\n",
       "    <tr>\n",
       "      <th>513110</th>\n",
       "      <td>5941</td>\n",
       "      <td>acc_9524</td>\n",
       "      <td>EXTERNAL_TRANSFER</td>\n",
       "      <td>8.66</td>\n",
       "      <td>2023-01-21</td>\n",
       "      <td>EXTERNAL_TRANSFER</td>\n",
       "    </tr>\n",
       "    <tr>\n",
       "      <th>513111</th>\n",
       "      <td>5941</td>\n",
       "      <td>acc_9524</td>\n",
       "      <td>EXTERNAL_TRANSFER</td>\n",
       "      <td>267.13</td>\n",
       "      <td>2023-01-23</td>\n",
       "      <td>EXTERNAL_TRANSFER</td>\n",
       "    </tr>\n",
       "    <tr>\n",
       "      <th>513112</th>\n",
       "      <td>5941</td>\n",
       "      <td>acc_9524</td>\n",
       "      <td>EXTERNAL_TRANSFER</td>\n",
       "      <td>2.00</td>\n",
       "      <td>2023-01-24</td>\n",
       "      <td>EXTERNAL_TRANSFER</td>\n",
       "    </tr>\n",
       "    <tr>\n",
       "      <th>513113</th>\n",
       "      <td>5941</td>\n",
       "      <td>acc_9524</td>\n",
       "      <td>EXTERNAL_TRANSFER</td>\n",
       "      <td>207.16</td>\n",
       "      <td>2023-01-24</td>\n",
       "      <td>EXTERNAL_TRANSFER</td>\n",
       "    </tr>\n",
       "    <tr>\n",
       "      <th>513114</th>\n",
       "      <td>5941</td>\n",
       "      <td>acc_9524</td>\n",
       "      <td>EXTERNAL_TRANSFER</td>\n",
       "      <td>281.71</td>\n",
       "      <td>2023-01-25</td>\n",
       "      <td>EXTERNAL_TRANSFER</td>\n",
       "    </tr>\n",
       "  </tbody>\n",
       "</table>\n",
       "<p>513115 rows × 6 columns</p>\n",
       "</div>"
      ],
      "text/plain": [
       "        prism_consumer_id prism_account_id               memo   amount  \\\n",
       "0                       0            acc_0           PAYCHECK  2477.02   \n",
       "1                       0            acc_0  EXTERNAL_TRANSFER   100.00   \n",
       "2                       0            acc_0      MISCELLANEOUS     6.29   \n",
       "3                       0            acc_0  EXTERNAL_TRANSFER   277.00   \n",
       "4                       0            acc_0  EXTERNAL_TRANSFER   100.00   \n",
       "...                   ...              ...                ...      ...   \n",
       "513110               5941         acc_9524  EXTERNAL_TRANSFER     8.66   \n",
       "513111               5941         acc_9524  EXTERNAL_TRANSFER   267.13   \n",
       "513112               5941         acc_9524  EXTERNAL_TRANSFER     2.00   \n",
       "513113               5941         acc_9524  EXTERNAL_TRANSFER   207.16   \n",
       "513114               5941         acc_9524  EXTERNAL_TRANSFER   281.71   \n",
       "\n",
       "       posted_date           category  \n",
       "0       2022-03-18           PAYCHECK  \n",
       "1       2022-10-25  EXTERNAL_TRANSFER  \n",
       "2       2022-08-26      MISCELLANEOUS  \n",
       "3       2022-06-03  EXTERNAL_TRANSFER  \n",
       "4       2022-07-29  EXTERNAL_TRANSFER  \n",
       "...            ...                ...  \n",
       "513110  2023-01-21  EXTERNAL_TRANSFER  \n",
       "513111  2023-01-23  EXTERNAL_TRANSFER  \n",
       "513112  2023-01-24  EXTERNAL_TRANSFER  \n",
       "513113  2023-01-24  EXTERNAL_TRANSFER  \n",
       "513114  2023-01-25  EXTERNAL_TRANSFER  \n",
       "\n",
       "[513115 rows x 6 columns]"
      ]
     },
     "execution_count": 2,
     "metadata": {},
     "output_type": "execute_result"
    }
   ],
   "source": [
    "inflows"
   ]
  },
  {
   "cell_type": "code",
   "execution_count": 3,
   "id": "52479934-98de-4fc1-b969-80d1dfa35791",
   "metadata": {},
   "outputs": [
    {
     "data": {
      "text/html": [
       "<div>\n",
       "<style scoped>\n",
       "    .dataframe tbody tr th:only-of-type {\n",
       "        vertical-align: middle;\n",
       "    }\n",
       "\n",
       "    .dataframe tbody tr th {\n",
       "        vertical-align: top;\n",
       "    }\n",
       "\n",
       "    .dataframe thead th {\n",
       "        text-align: right;\n",
       "    }\n",
       "</style>\n",
       "<table border=\"1\" class=\"dataframe\">\n",
       "  <thead>\n",
       "    <tr style=\"text-align: right;\">\n",
       "      <th></th>\n",
       "      <th>prism_consumer_id</th>\n",
       "      <th>prism_account_id</th>\n",
       "      <th>memo</th>\n",
       "      <th>amount</th>\n",
       "      <th>posted_date</th>\n",
       "      <th>category</th>\n",
       "    </tr>\n",
       "  </thead>\n",
       "  <tbody>\n",
       "    <tr>\n",
       "      <th>0</th>\n",
       "      <td>0</td>\n",
       "      <td>acc_0</td>\n",
       "      <td>LOAN</td>\n",
       "      <td>900.60</td>\n",
       "      <td>2022-07-05</td>\n",
       "      <td>LOAN</td>\n",
       "    </tr>\n",
       "    <tr>\n",
       "      <th>1</th>\n",
       "      <td>0</td>\n",
       "      <td>acc_0</td>\n",
       "      <td>ATM_CASH</td>\n",
       "      <td>80.00</td>\n",
       "      <td>2022-03-25</td>\n",
       "      <td>ATM_CASH</td>\n",
       "    </tr>\n",
       "    <tr>\n",
       "      <th>2</th>\n",
       "      <td>0</td>\n",
       "      <td>acc_0</td>\n",
       "      <td>TST* Casa Del Rio - Exp Fairlawn OH 09/24</td>\n",
       "      <td>18.42</td>\n",
       "      <td>2022-09-26</td>\n",
       "      <td>FOOD_AND_BEVERAGES</td>\n",
       "    </tr>\n",
       "    <tr>\n",
       "      <th>3</th>\n",
       "      <td>0</td>\n",
       "      <td>acc_0</td>\n",
       "      <td>LOAN</td>\n",
       "      <td>634.00</td>\n",
       "      <td>2023-01-10</td>\n",
       "      <td>LOAN</td>\n",
       "    </tr>\n",
       "    <tr>\n",
       "      <th>4</th>\n",
       "      <td>0</td>\n",
       "      <td>acc_0</td>\n",
       "      <td>Buffalo Wild Wings</td>\n",
       "      <td>26.47</td>\n",
       "      <td>2022-09-12</td>\n",
       "      <td>FOOD_AND_BEVERAGES</td>\n",
       "    </tr>\n",
       "    <tr>\n",
       "      <th>...</th>\n",
       "      <td>...</td>\n",
       "      <td>...</td>\n",
       "      <td>...</td>\n",
       "      <td>...</td>\n",
       "      <td>...</td>\n",
       "      <td>...</td>\n",
       "    </tr>\n",
       "    <tr>\n",
       "      <th>2597483</th>\n",
       "      <td>5941</td>\n",
       "      <td>acc_9524</td>\n",
       "      <td>ATM_CASH</td>\n",
       "      <td>8.42</td>\n",
       "      <td>2023-01-25</td>\n",
       "      <td>ATM_CASH</td>\n",
       "    </tr>\n",
       "    <tr>\n",
       "      <th>2597484</th>\n",
       "      <td>5941</td>\n",
       "      <td>acc_9524</td>\n",
       "      <td>ATM_CASH</td>\n",
       "      <td>2.06</td>\n",
       "      <td>2023-01-25</td>\n",
       "      <td>ATM_CASH</td>\n",
       "    </tr>\n",
       "    <tr>\n",
       "      <th>2597485</th>\n",
       "      <td>5941</td>\n",
       "      <td>acc_9524</td>\n",
       "      <td>ATM_CASH</td>\n",
       "      <td>262.88</td>\n",
       "      <td>2023-01-25</td>\n",
       "      <td>ATM_CASH</td>\n",
       "    </tr>\n",
       "    <tr>\n",
       "      <th>2597486</th>\n",
       "      <td>5941</td>\n",
       "      <td>acc_9524</td>\n",
       "      <td>ATM_CASH</td>\n",
       "      <td>10.00</td>\n",
       "      <td>2023-01-25</td>\n",
       "      <td>ATM_CASH</td>\n",
       "    </tr>\n",
       "    <tr>\n",
       "      <th>2597487</th>\n",
       "      <td>5941</td>\n",
       "      <td>acc_9524</td>\n",
       "      <td>UNCATEGORIZED</td>\n",
       "      <td>35.13</td>\n",
       "      <td>2023-01-25</td>\n",
       "      <td>UNCATEGORIZED</td>\n",
       "    </tr>\n",
       "  </tbody>\n",
       "</table>\n",
       "<p>2597488 rows × 6 columns</p>\n",
       "</div>"
      ],
      "text/plain": [
       "         prism_consumer_id prism_account_id  \\\n",
       "0                        0            acc_0   \n",
       "1                        0            acc_0   \n",
       "2                        0            acc_0   \n",
       "3                        0            acc_0   \n",
       "4                        0            acc_0   \n",
       "...                    ...              ...   \n",
       "2597483               5941         acc_9524   \n",
       "2597484               5941         acc_9524   \n",
       "2597485               5941         acc_9524   \n",
       "2597486               5941         acc_9524   \n",
       "2597487               5941         acc_9524   \n",
       "\n",
       "                                              memo  amount posted_date  \\\n",
       "0                                             LOAN  900.60  2022-07-05   \n",
       "1                                         ATM_CASH   80.00  2022-03-25   \n",
       "2        TST* Casa Del Rio - Exp Fairlawn OH 09/24   18.42  2022-09-26   \n",
       "3                                             LOAN  634.00  2023-01-10   \n",
       "4                               Buffalo Wild Wings   26.47  2022-09-12   \n",
       "...                                            ...     ...         ...   \n",
       "2597483                                   ATM_CASH    8.42  2023-01-25   \n",
       "2597484                                   ATM_CASH    2.06  2023-01-25   \n",
       "2597485                                   ATM_CASH  262.88  2023-01-25   \n",
       "2597486                                   ATM_CASH   10.00  2023-01-25   \n",
       "2597487                              UNCATEGORIZED   35.13  2023-01-25   \n",
       "\n",
       "                   category  \n",
       "0                      LOAN  \n",
       "1                  ATM_CASH  \n",
       "2        FOOD_AND_BEVERAGES  \n",
       "3                      LOAN  \n",
       "4        FOOD_AND_BEVERAGES  \n",
       "...                     ...  \n",
       "2597483            ATM_CASH  \n",
       "2597484            ATM_CASH  \n",
       "2597485            ATM_CASH  \n",
       "2597486            ATM_CASH  \n",
       "2597487       UNCATEGORIZED  \n",
       "\n",
       "[2597488 rows x 6 columns]"
      ]
     },
     "execution_count": 3,
     "metadata": {},
     "output_type": "execute_result"
    }
   ],
   "source": [
    "outflows"
   ]
  },
  {
   "cell_type": "markdown",
   "id": "8e3ca3ee-31ad-4812-acae-11455e4406d1",
   "metadata": {},
   "source": [
    "# Data Exploration"
   ]
  },
  {
   "cell_type": "code",
   "execution_count": 4,
   "id": "ea87a200-dc18-41dd-880b-f7305345427a",
   "metadata": {},
   "outputs": [
    {
     "data": {
      "text/plain": [
       "(2974, 2968)"
      ]
     },
     "execution_count": 4,
     "metadata": {},
     "output_type": "execute_result"
    }
   ],
   "source": [
    "# total number of accounts\n",
    "inflows['prism_consumer_id'].nunique(), outflows['prism_consumer_id'].nunique()"
   ]
  },
  {
   "cell_type": "markdown",
   "id": "2bac8c54-5c66-4da2-aecb-acfd99f6d5c7",
   "metadata": {},
   "source": [
    "We see here that the number of accounts (represented by the number of prism consumer id's) is different for the inflows and the outflows datasets. This indicates that not every consumer is listed in both. A possible explanation is that some consumers only have inflows or only outflows during this period, but it could also be a data collection issue, so it is something we can look into later"
   ]
  },
  {
   "cell_type": "markdown",
   "id": "c441e4ae-1bba-42fa-96a7-b00ce84ae5a9",
   "metadata": {},
   "source": [
    "## Looking at 'value_counts' for each dataset"
   ]
  },
  {
   "cell_type": "markdown",
   "id": "d15b0244-a234-48f1-8e54-c4d619ea0ad0",
   "metadata": {},
   "source": [
    "### Inflows"
   ]
  },
  {
   "cell_type": "code",
   "execution_count": 5,
   "id": "90e61354-c4f2-4a0e-8bf4-ce95eb25de98",
   "metadata": {},
   "outputs": [
    {
     "data": {
      "text/plain": [
       "category\n",
       "EXTERNAL_TRANSFER        156533\n",
       "SELF_TRANSFER            110437\n",
       "DEPOSIT                   61345\n",
       "MISCELLANEOUS             55648\n",
       "PAYCHECK                  33138\n",
       "PAYCHECK_PLACEHOLDER      26087\n",
       "REFUND                    23220\n",
       "INVESTMENT_INCOME         17325\n",
       "SMALL_DOLLAR_ADVANCE      13621\n",
       "OTHER_BENEFITS             7708\n",
       "TAX                        3405\n",
       "LOAN                       2513\n",
       "UNEMPLOYMENT_BENEFITS      1961\n",
       "INSURANCE                   174\n",
       "Name: count, dtype: int64"
      ]
     },
     "execution_count": 5,
     "metadata": {},
     "output_type": "execute_result"
    }
   ],
   "source": [
    "inflows['category'].value_counts()"
   ]
  },
  {
   "cell_type": "code",
   "execution_count": 6,
   "id": "2d58a7fb-111c-4489-836e-bae8c8eb5528",
   "metadata": {},
   "outputs": [
    {
     "data": {
      "text/plain": [
       "memo\n",
       "EXTERNAL_TRANSFER        156533\n",
       "SELF_TRANSFER            110437\n",
       "DEPOSIT                   61345\n",
       "MISCELLANEOUS             55648\n",
       "PAYCHECK                  33138\n",
       "PAYCHECK_PLACEHOLDER      26087\n",
       "REFUND                    23220\n",
       "INVESTMENT_INCOME         17325\n",
       "SMALL_DOLLAR_ADVANCE      13621\n",
       "OTHER_BENEFITS             7708\n",
       "TAX                        3405\n",
       "LOAN                       2513\n",
       "UNEMPLOYMENT_BENEFITS      1961\n",
       "INSURANCE                   174\n",
       "Name: count, dtype: int64"
      ]
     },
     "execution_count": 6,
     "metadata": {},
     "output_type": "execute_result"
    }
   ],
   "source": [
    "inflows['memo'].value_counts()"
   ]
  },
  {
   "cell_type": "markdown",
   "id": "f09176dc-268c-4c42-8741-cd819ae91db7",
   "metadata": {},
   "source": [
    "For inflows, the same 14 categories are listed under 'category' and 'memo'"
   ]
  },
  {
   "cell_type": "markdown",
   "id": "7aba6d7a-08fe-4d10-aa10-f3bd82f5a9fd",
   "metadata": {},
   "source": [
    "### Outflows"
   ]
  },
  {
   "cell_type": "code",
   "execution_count": 7,
   "id": "2f5ed322-66f5-4071-8d5f-32e0f2c773d4",
   "metadata": {},
   "outputs": [
    {
     "data": {
      "text/plain": [
       "category\n",
       "GENERAL_MERCHANDISE    524063\n",
       "FOOD_AND_BEVERAGES     481994\n",
       "EXTERNAL_TRANSFER      320998\n",
       "GROCERIES              219331\n",
       "AUTOMOTIVE             208579\n",
       "ATM_CASH               117651\n",
       "UNCATEGORIZED          117409\n",
       "LOAN                    90945\n",
       "ENTERTAINMENT           80885\n",
       "ESSENTIAL_SERVICES      77137\n",
       "CREDIT_CARD_PAYMENT     75506\n",
       "SELF_TRANSFER           73281\n",
       "TRAVEL                  59647\n",
       "HEALTHCARE_MEDICAL      40842\n",
       "ACCOUNT_FEES            37511\n",
       "INSURANCE               30244\n",
       "PETS                     9266\n",
       "HOME_IMPROVEMENT         8600\n",
       "GIFTS_DONATIONS          4719\n",
       "EDUCATION                4499\n",
       "OVERDRAFT                3386\n",
       "TAX                      3186\n",
       "RENT                     3147\n",
       "BNPL                     1543\n",
       "MORTGAGE                 1119\n",
       "PAYCHECK                 1040\n",
       "CHILD_DEPENDENTS          936\n",
       "BILLS_UTILITIES            23\n",
       "AUTO_LOAN                   1\n",
       "Name: count, dtype: int64"
      ]
     },
     "execution_count": 7,
     "metadata": {},
     "output_type": "execute_result"
    }
   ],
   "source": [
    "outflows['category'].value_counts()"
   ]
  },
  {
   "cell_type": "code",
   "execution_count": 8,
   "id": "12b3c410-ad7a-473c-a558-73ac82f1cf51",
   "metadata": {},
   "outputs": [
    {
     "data": {
      "text/plain": [
       "memo\n",
       "EXTERNAL_TRANSFER                                                                    320998\n",
       "AUTOMOTIVE                                                                           208579\n",
       "ATM_CASH                                                                             117651\n",
       "UNCATEGORIZED                                                                        117409\n",
       "LOAN                                                                                  90945\n",
       "                                                                                      ...  \n",
       "Par Gators Dockside -                                                                     1\n",
       "Chilis Mandarin                                                                           1\n",
       "Chilis Bay Meadows                                                                        1\n",
       "Southside Liquor                                                                          1\n",
       "POS WITHDRAWALWAL-MART #XXXX XXXX E MCKELLIPS RD MESA AZ  Card 15 #XXXX  MCC XXXX         1\n",
       "Name: count, Length: 528786, dtype: int64"
      ]
     },
     "execution_count": 8,
     "metadata": {},
     "output_type": "execute_result"
    }
   ],
   "source": [
    "outflows['memo'].value_counts()"
   ]
  },
  {
   "cell_type": "markdown",
   "id": "7374aa62-ef4d-49b6-97a9-cfd14dba8f97",
   "metadata": {},
   "source": [
    "For outflows, there are more general categories and a significantly larger variety of memos. While some memos contain broad categories like 'EXTERNAL_TRANSFER' and 'AUTOMOTIVE', most of the memos include more detailed descriptions that reflect specific transactions. These memos are likely to contain valuable insight into spending habits and patterns from a consumer level."
   ]
  },
  {
   "cell_type": "markdown",
   "id": "f25bd5da-a2a9-4bf7-b484-48abe89c0f0c",
   "metadata": {},
   "source": [
    "## Average spending on each category"
   ]
  },
  {
   "cell_type": "markdown",
   "id": "28cf33ba-a07f-4b07-85a0-3e356849b922",
   "metadata": {},
   "source": [
    "### Inflows"
   ]
  },
  {
   "cell_type": "code",
   "execution_count": 9,
   "id": "e9080397-5a68-452d-a25b-ac4ac6229c2e",
   "metadata": {},
   "outputs": [
    {
     "data": {
      "text/plain": [
       "category\n",
       "DEPOSIT                  1085.701257\n",
       "EXTERNAL_TRANSFER         521.207874\n",
       "INSURANCE                1945.482874\n",
       "INVESTMENT_INCOME         397.534104\n",
       "LOAN                     1683.927867\n",
       "MISCELLANEOUS             945.124939\n",
       "OTHER_BENEFITS           1579.636412\n",
       "PAYCHECK                 1630.108042\n",
       "PAYCHECK_PLACEHOLDER     1368.733918\n",
       "REFUND                    232.835498\n",
       "SELF_TRANSFER             437.367213\n",
       "SMALL_DOLLAR_ADVANCE      139.974706\n",
       "TAX                      1650.396999\n",
       "UNEMPLOYMENT_BENEFITS     821.223758\n",
       "Name: amount, dtype: float64"
      ]
     },
     "execution_count": 9,
     "metadata": {},
     "output_type": "execute_result"
    }
   ],
   "source": [
    "# avg spending on each category for inflows\n",
    "inflows.groupby('category')['amount'].mean()"
   ]
  },
  {
   "cell_type": "code",
   "execution_count": 10,
   "id": "bec0d2a9-e8d6-43ce-a3a8-7eb6d2a07af5",
   "metadata": {},
   "outputs": [
    {
     "data": {
      "image/png": "[encoded data removed]",
      "text/plain": [
       "<Figure size 1000x600 with 1 Axes>"
      ]
     },
     "metadata": {},
     "output_type": "display_data"
    }
   ],
   "source": [
    "import matplotlib.pyplot as plt\n",
    "\n",
    "# group and aggregate (mean or sum)\n",
    "category_amount = inflows.groupby('category')['amount'].mean().sort_values(ascending=False)\n",
    "\n",
    "# plot bar chart\n",
    "category_amount.plot(kind='bar', figsize=(10,6))\n",
    "plt.title('Average Inflow Amount by Category')\n",
    "plt.xlabel('Category')\n",
    "plt.ylabel('Average Amount')\n",
    "plt.xticks(rotation=45, ha='right')\n",
    "plt.tight_layout()\n",
    "plt.show()"
   ]
  },
  {
   "cell_type": "markdown",
   "id": "16d9b60f-b0ce-4957-850c-2d88cdf5ff47",
   "metadata": {},
   "source": [
    "### Outflows"
   ]
  },
  {
   "cell_type": "code",
   "execution_count": 11,
   "id": "50d46819-6e99-4f7b-9426-f85d772cef53",
   "metadata": {},
   "outputs": [
    {
     "data": {
      "text/plain": [
       "category\n",
       "ACCOUNT_FEES             16.680846\n",
       "ATM_CASH                461.570513\n",
       "AUTOMOTIVE               43.642642\n",
       "AUTO_LOAN               200.000000\n",
       "BILLS_UTILITIES          80.432174\n",
       "BNPL                     45.196040\n",
       "CHILD_DEPENDENTS         98.622126\n",
       "CREDIT_CARD_PAYMENT     565.424486\n",
       "EDUCATION               186.891587\n",
       "ENTERTAINMENT            33.793896\n",
       "ESSENTIAL_SERVICES      151.435973\n",
       "EXTERNAL_TRANSFER       286.112884\n",
       "FOOD_AND_BEVERAGES       40.564988\n",
       "GENERAL_MERCHANDISE      57.821981\n",
       "GIFTS_DONATIONS         136.090153\n",
       "GROCERIES                51.450581\n",
       "HEALTHCARE_MEDICAL       66.308042\n",
       "HOME_IMPROVEMENT        147.030484\n",
       "INSURANCE               175.727043\n",
       "LOAN                    377.325598\n",
       "MORTGAGE               1679.032726\n",
       "OVERDRAFT                68.611110\n",
       "PAYCHECK               1253.684135\n",
       "PETS                     72.111759\n",
       "RENT                    738.777979\n",
       "SELF_TRANSFER           219.929513\n",
       "TAX                    1547.854171\n",
       "TRAVEL                   55.842056\n",
       "UNCATEGORIZED           228.307473\n",
       "Name: amount, dtype: float64"
      ]
     },
     "execution_count": 11,
     "metadata": {},
     "output_type": "execute_result"
    }
   ],
   "source": [
    "# avg spending on each category for outflows\n",
    "outflows.groupby('category')['amount'].mean()"
   ]
  },
  {
   "cell_type": "code",
   "execution_count": 12,
   "id": "4956900f-3b27-4d3b-819b-310b79c775f5",
   "metadata": {},
   "outputs": [
    {
     "data": {
      "image/png": "[encoded data removed]",
      "text/plain": [
       "<Figure size 1000x600 with 1 Axes>"
      ]
     },
     "metadata": {},
     "output_type": "display_data"
    }
   ],
   "source": [
    "# group and aggregate (mean or sum)\n",
    "category_amount = outflows.groupby('category')['amount'].mean().sort_values(ascending=False)\n",
    "\n",
    "# plot bar chart\n",
    "category_amount.plot(kind='bar', figsize=(10,6))\n",
    "plt.title('Average Outflow Amount by Category')\n",
    "plt.xlabel('Category')\n",
    "plt.ylabel('Average Amount')\n",
    "plt.xticks(rotation=45, ha='right')\n",
    "plt.tight_layout()\n",
    "plt.show()"
   ]
  },
  {
   "cell_type": "markdown",
   "id": "41d8185e-49a3-472a-ad0c-7889f3cb5965",
   "metadata": {},
   "source": [
    "### Checking the date range of the dataset"
   ]
  },
  {
   "cell_type": "code",
   "execution_count": 13,
   "id": "13a7d59f-2208-4d88-a186-d19114ebe11f",
   "metadata": {},
   "outputs": [
    {
     "data": {
      "text/plain": [
       "(datetime.date(2017, 12, 29),\n",
       " datetime.date(2023, 8, 1),\n",
       " '\\n',\n",
       " datetime.date(2017, 12, 29),\n",
       " datetime.date(2023, 8, 1))"
      ]
     },
     "execution_count": 13,
     "metadata": {},
     "output_type": "execute_result"
    }
   ],
   "source": [
    "# date range for the inflows & outflows\n",
    "inflows['posted_date'].min(), inflows['posted_date'].max(), '\\n', outflows['posted_date'].min(), outflows['posted_date'].max()"
   ]
  },
  {
   "cell_type": "markdown",
   "id": "086f4799-9785-4de9-92c8-2ac406aa4d51",
   "metadata": {},
   "source": [
    "We can see that both datasets have the same date range of ~5 years from December 29, 2017 to August 1, 2023"
   ]
  },
  {
   "cell_type": "markdown",
   "id": "ca19d3a8-8d96-4a31-a50d-c7593aafaf72",
   "metadata": {},
   "source": [
    "### Median Monthly Inflow vs Outflow per User"
   ]
  },
  {
   "cell_type": "code",
   "execution_count": 14,
   "id": "1a07e5e9-41cf-4561-9e8e-43d38f5466a5",
   "metadata": {},
   "outputs": [
    {
     "data": {
      "image/png": "[encoded data removed]",
      "text/plain": [
       "<Figure size 1000x500 with 1 Axes>"
      ]
     },
     "metadata": {},
     "output_type": "display_data"
    }
   ],
   "source": [
    "# Converts the dates in each dataset to datetime to extract the months\n",
    "inflows['posted_date'] = pd.to_datetime(inflows['posted_date'])\n",
    "outflows['posted_date'] = pd.to_datetime(outflows['posted_date'])\n",
    "\n",
    "inflows['month'] = inflows['posted_date'].dt.to_period('M').dt.to_timestamp()\n",
    "outflows['month'] = outflows['posted_date'].dt.to_period('M').dt.to_timestamp()\n",
    "\n",
    "# Calculates median inflow amount per month per customer\n",
    "median_inflow = (\n",
    "    inflows.groupby(['month','prism_consumer_id'])['amount'].sum()\n",
    "    .groupby('month')\n",
    "    .median()\n",
    "    .reset_index(name='median_inflow')\n",
    ")\n",
    "\n",
    "median_outflow = (\n",
    "    outflows.groupby(['month','prism_consumer_id'])['amount'].sum()\n",
    "    .groupby('month')\n",
    "    .median()\n",
    "    .reset_index(name='median_outflow')\n",
    ")\n",
    "\n",
    "# Plot chart\n",
    "monthly_medians = pd.merge(median_inflow, median_outflow, on='month', how='outer')\n",
    "monthly_medians.plot(x='month', y=['median_inflow','median_outflow'], marker='o', figsize=(10,5))\n",
    "plt.title('Median Monthly Inflow vs Outflow per User')\n",
    "plt.ylabel('Median Amount ($)')\n",
    "plt.grid(True)\n",
    "plt.show()"
   ]
  },
  {
   "cell_type": "markdown",
   "id": "3cbcb017-51f7-4386-aa54-74ea327feccf",
   "metadata": {},
   "source": [
    "The median monthly inflow and outflow per user were plotted to identify possible seasonal trends. Median was used instead of the mean in hopes to get rid of any outliers. Both inflows and outflows peaked in the very beginning and gradually declined and stabilized. This suggests that early users had higher transaction volumes and could be more indicitave of the users themselves as opposed to any general seasonal trends. As a result, no clear monthly or seasonal spending trends were observed, indicating stable consumer behavior over time."
   ]
  },
  {
   "cell_type": "markdown",
   "id": "58c7b253-6e18-4c65-a88f-e592f920cef8",
   "metadata": {},
   "source": [
    "### do we want to keep this (?)\n",
    "\n",
    "### Inspect the spending on GROCERIES category"
   ]
  },
  {
   "cell_type": "code",
   "execution_count": 15,
   "id": "853e1797-fd90-4b2a-8d73-0f2789794cf5",
   "metadata": {},
   "outputs": [
    {
     "data": {
      "text/plain": [
       "memo\n",
       "Refunded Purchase WALMART.COM                                                                            0.000\n",
       "Refunded Purchase 365 MARKET F 888 432-32TROY                                                            0.000\n",
       "Refunded Purchase C & T SEAFOOD                                                                          0.000\n",
       "Refunded Purchase HAPPY FOOD MART                                                                        0.000\n",
       "Refunded Purchase IC* INSTACART*ALDI +XXXXXXXXXXX                                                        0.000\n",
       "                                                                                                       ...    \n",
       "Rps*Camden Old Town Rd                                                                                2113.250\n",
       "DBT CRD XXXX 98 BCBS SC MARKETPL BILLERPAYMENTSC CARD# XXXX                                           2200.000\n",
       "JOHNSON MARK LLC 12/07/22 22-XXXXX AARON KRAUSE                                                       7127.830\n",
       "WT XXXXXX-XXXXXX BANCO MULTIPLE SANT /BNF=mark laptin SRF# XXXXXXXXXXXXXXXX TRN#XXXXXXXXXXXX RFB#     8500.000\n",
       "ACH Electronic Debit - SMART LLC SMART LLC                                                           23233.036\n",
       "Name: amount, Length: 71174, dtype: float64"
      ]
     },
     "execution_count": 15,
     "metadata": {},
     "output_type": "execute_result"
    }
   ],
   "source": [
    "# spending in GROCERIES category\n",
    "outflows[outflows['category']=='GROCERIES'].groupby('memo')['amount'].mean().sort_values(ascending=True)"
   ]
  },
  {
   "cell_type": "markdown",
   "id": "a71df93a-d623-4c92-875f-c49bc9636d60",
   "metadata": {},
   "source": [
    "## Most common merchants per category"
   ]
  },
  {
   "cell_type": "code",
   "execution_count": 16,
   "id": "471d4e5f-ba37-4829-b6d3-b6cea22c57d9",
   "metadata": {},
   "outputs": [
    {
     "name": "stdout",
     "output_type": "stream",
     "text": [
      "               category                most_common_merchant\n",
      "0          ACCOUNT_FEES                        ACCOUNT_FEES\n",
      "1              ATM_CASH                            ATM_CASH\n",
      "2            AUTOMOTIVE                          AUTOMOTIVE\n",
      "3             AUTO_LOAN                           AUTO_LOAN\n",
      "4       BILLS_UTILITIES                     BILLS_UTILITIES\n",
      "5                  BNPL                                BNPL\n",
      "6      CHILD_DEPENDENTS                    CHILD_DEPENDENTS\n",
      "7   CREDIT_CARD_PAYMENT                 CREDIT_CARD_PAYMENT\n",
      "8             EDUCATION             Teacherspayteachers.com\n",
      "9         ENTERTAINMENT                       ENTERTAINMENT\n",
      "10   ESSENTIAL_SERVICES                  ESSENTIAL_SERVICES\n",
      "11    EXTERNAL_TRANSFER                   EXTERNAL_TRANSFER\n",
      "12   FOOD_AND_BEVERAGES                          McDonald's\n",
      "13  GENERAL_MERCHANDISE                              Amazon\n",
      "14      GIFTS_DONATIONS                     GIFTS_DONATIONS\n",
      "15            GROCERIES                             Walmart\n",
      "16   HEALTHCARE_MEDICAL                  HEALTHCARE_MEDICAL\n",
      "17     HOME_IMPROVEMENT                    HOME_IMPROVEMENT\n",
      "18            INSURANCE                           INSURANCE\n",
      "19                 LOAN                                LOAN\n",
      "20             MORTGAGE  HUNTINGTON MORTG ONLINE PMT XXXXXX\n",
      "21            OVERDRAFT                  Overdraft Item Fee\n",
      "22             PAYCHECK                            PAYCHECK\n",
      "23                 PETS                            PetSmart\n",
      "24                 RENT           SOUTHERN INVESTO WEB PMTS\n",
      "25        SELF_TRANSFER                       SELF_TRANSFER\n",
      "26                  TAX                                 TAX\n",
      "27               TRAVEL                                Uber\n",
      "28        UNCATEGORIZED                       UNCATEGORIZED\n"
     ]
    }
   ],
   "source": [
    "top_merchants = (\n",
    "    outflows.groupby('category')['memo']\n",
    "      .agg(lambda x: x.value_counts().index[0])\n",
    "      .reset_index(name='most_common_merchant')\n",
    ")\n",
    "\n",
    "print(top_merchants)"
   ]
  },
  {
   "cell_type": "markdown",
   "id": "2ca279c9-fefc-4209-90a9-cb76c8b0b588",
   "metadata": {},
   "source": [
    "**The most common merchants for most of the category are basically the same as their category name, some meaningful ones that are not the same are:**\n",
    "<br>\n",
    "12   FOOD_AND_BEVERAGES                          McDonald's<br>\n",
    "13  GENERAL_MERCHANDISE                              Amazon<br>\n",
    "20             MORTGAGE  HUNTINGTON MORTG ONLINE PMT XXXXXX<br>\n",
    "23                 PETS                            PetSmart<br>\n",
    "24                 RENT           SOUTHERN INVESTO WEB PMTS<br>\n",
    "27               TRAVEL                                Uber\n"
   ]
  },
  {
   "cell_type": "markdown",
   "id": "884a1fdc-8e8e-4b8d-8fc7-2ceaf88b08af",
   "metadata": {},
   "source": [
    "# Train/Test Split"
   ]
  },
  {
   "cell_type": "code",
   "execution_count": 17,
   "id": "7aff9d12-4d42-4463-875c-7d8a41ef9551",
   "metadata": {},
   "outputs": [],
   "source": [
    "import pandas as pd\n",
    "from sklearn.model_selection import train_test_split\n",
    "from scipy.stats import ks_2samp"
   ]
  },
  {
   "cell_type": "markdown",
   "id": "c7661f89-e241-4729-a665-8b68455c78b7",
   "metadata": {},
   "source": [
    "Performing a train-test-split with 75% train and 25% test. We are splitting them by the `prism_consumer_ids` and are creating two different sets for both the inflows and outflows."
   ]
  },
  {
   "cell_type": "markdown",
   "id": "6003ef17-f62e-4e90-b319-95a0bad9b2dd",
   "metadata": {},
   "source": [
    "## Inflows"
   ]
  },
  {
   "cell_type": "code",
   "execution_count": 18,
   "id": "57756478-ca4b-4ee2-b48c-4925a02d7806",
   "metadata": {},
   "outputs": [
    {
     "name": "stdout",
     "output_type": "stream",
     "text": [
      "Train Shape: (385779, 7)\n",
      "Test Shape: (127336, 7)\n"
     ]
    }
   ],
   "source": [
    "### Train/Test Split\n",
    "unique_consumer_ids = inflows['prism_consumer_id'].unique()\n",
    "\n",
    "inflows_train_ids, inflows_test_ids = train_test_split(\n",
    "    unique_consumer_ids,\n",
    "    test_size=0.25,\n",
    "    random_state=42,\n",
    ")\n",
    "\n",
    "inflows_train_df = inflows[inflows['prism_consumer_id'].isin(inflows_train_ids)]\n",
    "inflows_test_df  = inflows[inflows['prism_consumer_id'].isin(inflows_test_ids)]\n",
    "\n",
    "print(f'Train Shape: {inflows_train_df.shape}')\n",
    "print(f'Test Shape: {inflows_test_df.shape}')"
   ]
  },
  {
   "cell_type": "markdown",
   "id": "5d2ae545-c860-435e-9c15-21193fb91a27",
   "metadata": {},
   "source": [
    "### I. Category Distribution Comparison\n",
    "The first statistical test conducted was a comparison in the category distribution between the train and test sets to ensure no bias. Each category's relative frequency and was calculated, along with the absolute difference. Because the absolute differences are relatively small, generally smaller than 0.015, this shows that there is consistency between the sets."
   ]
  },
  {
   "cell_type": "code",
   "execution_count": 19,
   "id": "808ca5ed-4514-4fdb-8771-f8692c87b404",
   "metadata": {},
   "outputs": [
    {
     "data": {
      "text/html": [
       "<div>\n",
       "<style scoped>\n",
       "    .dataframe tbody tr th:only-of-type {\n",
       "        vertical-align: middle;\n",
       "    }\n",
       "\n",
       "    .dataframe tbody tr th {\n",
       "        vertical-align: top;\n",
       "    }\n",
       "\n",
       "    .dataframe thead th {\n",
       "        text-align: right;\n",
       "    }\n",
       "</style>\n",
       "<table border=\"1\" class=\"dataframe\">\n",
       "  <thead>\n",
       "    <tr style=\"text-align: right;\">\n",
       "      <th></th>\n",
       "      <th>train</th>\n",
       "      <th>test</th>\n",
       "      <th>absolute_diff</th>\n",
       "    </tr>\n",
       "    <tr>\n",
       "      <th>category</th>\n",
       "      <th></th>\n",
       "      <th></th>\n",
       "      <th></th>\n",
       "    </tr>\n",
       "  </thead>\n",
       "  <tbody>\n",
       "    <tr>\n",
       "      <th>DEPOSIT</th>\n",
       "      <td>0.121181</td>\n",
       "      <td>0.114626</td>\n",
       "      <td>0.006555</td>\n",
       "    </tr>\n",
       "    <tr>\n",
       "      <th>EXTERNAL_TRANSFER</th>\n",
       "      <td>0.308342</td>\n",
       "      <td>0.295133</td>\n",
       "      <td>0.013210</td>\n",
       "    </tr>\n",
       "    <tr>\n",
       "      <th>INSURANCE</th>\n",
       "      <td>0.000389</td>\n",
       "      <td>0.000188</td>\n",
       "      <td>0.000200</td>\n",
       "    </tr>\n",
       "    <tr>\n",
       "      <th>INVESTMENT_INCOME</th>\n",
       "      <td>0.034305</td>\n",
       "      <td>0.032128</td>\n",
       "      <td>0.002177</td>\n",
       "    </tr>\n",
       "    <tr>\n",
       "      <th>LOAN</th>\n",
       "      <td>0.004656</td>\n",
       "      <td>0.005631</td>\n",
       "      <td>0.000975</td>\n",
       "    </tr>\n",
       "    <tr>\n",
       "      <th>MISCELLANEOUS</th>\n",
       "      <td>0.104969</td>\n",
       "      <td>0.119000</td>\n",
       "      <td>0.014031</td>\n",
       "    </tr>\n",
       "    <tr>\n",
       "      <th>OTHER_BENEFITS</th>\n",
       "      <td>0.013619</td>\n",
       "      <td>0.019272</td>\n",
       "      <td>0.005653</td>\n",
       "    </tr>\n",
       "    <tr>\n",
       "      <th>PAYCHECK</th>\n",
       "      <td>0.063998</td>\n",
       "      <td>0.066352</td>\n",
       "      <td>0.002354</td>\n",
       "    </tr>\n",
       "    <tr>\n",
       "      <th>PAYCHECK_PLACEHOLDER</th>\n",
       "      <td>0.049969</td>\n",
       "      <td>0.053481</td>\n",
       "      <td>0.003512</td>\n",
       "    </tr>\n",
       "    <tr>\n",
       "      <th>REFUND</th>\n",
       "      <td>0.046646</td>\n",
       "      <td>0.041033</td>\n",
       "      <td>0.005613</td>\n",
       "    </tr>\n",
       "    <tr>\n",
       "      <th>SELF_TRANSFER</th>\n",
       "      <td>0.213547</td>\n",
       "      <td>0.220323</td>\n",
       "      <td>0.006775</td>\n",
       "    </tr>\n",
       "    <tr>\n",
       "      <th>SMALL_DOLLAR_ADVANCE</th>\n",
       "      <td>0.028348</td>\n",
       "      <td>0.021086</td>\n",
       "      <td>0.007262</td>\n",
       "    </tr>\n",
       "    <tr>\n",
       "      <th>TAX</th>\n",
       "      <td>0.006348</td>\n",
       "      <td>0.007508</td>\n",
       "      <td>0.001160</td>\n",
       "    </tr>\n",
       "    <tr>\n",
       "      <th>UNEMPLOYMENT_BENEFITS</th>\n",
       "      <td>0.003683</td>\n",
       "      <td>0.004241</td>\n",
       "      <td>0.000557</td>\n",
       "    </tr>\n",
       "  </tbody>\n",
       "</table>\n",
       "</div>"
      ],
      "text/plain": [
       "                          train      test  absolute_diff\n",
       "category                                                \n",
       "DEPOSIT                0.121181  0.114626       0.006555\n",
       "EXTERNAL_TRANSFER      0.308342  0.295133       0.013210\n",
       "INSURANCE              0.000389  0.000188       0.000200\n",
       "INVESTMENT_INCOME      0.034305  0.032128       0.002177\n",
       "LOAN                   0.004656  0.005631       0.000975\n",
       "MISCELLANEOUS          0.104969  0.119000       0.014031\n",
       "OTHER_BENEFITS         0.013619  0.019272       0.005653\n",
       "PAYCHECK               0.063998  0.066352       0.002354\n",
       "PAYCHECK_PLACEHOLDER   0.049969  0.053481       0.003512\n",
       "REFUND                 0.046646  0.041033       0.005613\n",
       "SELF_TRANSFER          0.213547  0.220323       0.006775\n",
       "SMALL_DOLLAR_ADVANCE   0.028348  0.021086       0.007262\n",
       "TAX                    0.006348  0.007508       0.001160\n",
       "UNEMPLOYMENT_BENEFITS  0.003683  0.004241       0.000557"
      ]
     },
     "execution_count": 19,
     "metadata": {},
     "output_type": "execute_result"
    }
   ],
   "source": [
    "# Comparing category distribution between sets\n",
    "in_cat_distribution = pd.DataFrame({\n",
    "    'train': inflows_train_df['category'].value_counts(normalize=True),\n",
    "    'test':  inflows_test_df['category'].value_counts(normalize=True)\n",
    "})\n",
    "in_cat_distribution['absolute_diff'] = (in_cat_distribution['train'] - in_cat_distribution['test']).abs()\n",
    "\n",
    "in_cat_distribution"
   ]
  },
  {
   "cell_type": "markdown",
   "id": "a9167411-1f26-4162-b617-88e28fd13c5f",
   "metadata": {},
   "source": [
    "### II. KS Sample\n",
    "The second statistical test performed was a two-sample KS test which compares the distributions of the median transaction amounts per customer between the training and test sets. Because the KS statistic was small (0.038) and the p-value (0.385) is greater than > 0.05, this indicates that there is no significant difference between the distributions\n"
   ]
  },
  {
   "cell_type": "code",
   "execution_count": 20,
   "id": "e4964e81-ae42-45da-ba2e-6b58b17f5b0e",
   "metadata": {},
   "outputs": [
    {
     "name": "stdout",
     "output_type": "stream",
     "text": [
      "KstestResult(statistic=0.03795626597232268, pvalue=0.385021769005963, statistic_location=84.42, statistic_sign=1)\n"
     ]
    }
   ],
   "source": [
    "in_train_median = inflows_train_df.groupby('prism_consumer_id')['amount'].median()\n",
    "in_test_median = inflows_test_df.groupby('prism_consumer_id')['amount'].median()\n",
    "\n",
    "print(ks_2samp(in_train_median, in_test_median))"
   ]
  },
  {
   "cell_type": "markdown",
   "id": "7be7d2c8-1ae6-4628-a788-002b927298c2",
   "metadata": {},
   "source": [
    "### Outflows"
   ]
  },
  {
   "cell_type": "code",
   "execution_count": 21,
   "id": "12f19869-47aa-46e6-9a10-9d5800ca171a",
   "metadata": {},
   "outputs": [
    {
     "name": "stdout",
     "output_type": "stream",
     "text": [
      "Train Shape: (1968940, 7)\n",
      "Test Shape: (628548, 7)\n"
     ]
    }
   ],
   "source": [
    "### Train/Test Split\n",
    "unique_consumer_ids = outflows['prism_consumer_id'].unique()\n",
    "\n",
    "outflows_train_ids, outflows_test_ids = train_test_split(\n",
    "    unique_consumer_ids,\n",
    "    test_size=0.25,\n",
    "    random_state=42,\n",
    ")\n",
    "\n",
    "outflows_train_df = outflows[outflows['prism_consumer_id'].isin(outflows_train_ids)]\n",
    "outflows_test_df  = outflows[outflows['prism_consumer_id'].isin(outflows_test_ids)]\n",
    "\n",
    "print(f'Train Shape: {outflows_train_df.shape}')\n",
    "print(f'Test Shape: {outflows_test_df.shape}')"
   ]
  },
  {
   "cell_type": "markdown",
   "id": "2bd10479-5813-4144-b017-62329d3a8ff2",
   "metadata": {},
   "source": [
    "### I. Category Distribution Comparison\n",
    "Similar to the inflows splits, we conduced a category distribution comparison. Because the absolute differences are relatively small, generally smaller than 0.012, this shows that there is consistency between the sets.\n"
   ]
  },
  {
   "cell_type": "code",
   "execution_count": 22,
   "id": "40e1de5e-9e51-4c6d-adc7-12b334e71509",
   "metadata": {},
   "outputs": [
    {
     "data": {
      "text/html": [
       "<div>\n",
       "<style scoped>\n",
       "    .dataframe tbody tr th:only-of-type {\n",
       "        vertical-align: middle;\n",
       "    }\n",
       "\n",
       "    .dataframe tbody tr th {\n",
       "        vertical-align: top;\n",
       "    }\n",
       "\n",
       "    .dataframe thead th {\n",
       "        text-align: right;\n",
       "    }\n",
       "</style>\n",
       "<table border=\"1\" class=\"dataframe\">\n",
       "  <thead>\n",
       "    <tr style=\"text-align: right;\">\n",
       "      <th></th>\n",
       "      <th>train</th>\n",
       "      <th>test</th>\n",
       "      <th>absolute_diff</th>\n",
       "    </tr>\n",
       "    <tr>\n",
       "      <th>category</th>\n",
       "      <th></th>\n",
       "      <th></th>\n",
       "      <th></th>\n",
       "    </tr>\n",
       "  </thead>\n",
       "  <tbody>\n",
       "    <tr>\n",
       "      <th>ACCOUNT_FEES</th>\n",
       "      <td>1.405071e-02</td>\n",
       "      <td>0.015665</td>\n",
       "      <td>0.001614</td>\n",
       "    </tr>\n",
       "    <tr>\n",
       "      <th>ATM_CASH</th>\n",
       "      <td>4.320650e-02</td>\n",
       "      <td>0.051834</td>\n",
       "      <td>0.008627</td>\n",
       "    </tr>\n",
       "    <tr>\n",
       "      <th>AUTOMOTIVE</th>\n",
       "      <td>8.149969e-02</td>\n",
       "      <td>0.076543</td>\n",
       "      <td>0.004957</td>\n",
       "    </tr>\n",
       "    <tr>\n",
       "      <th>AUTO_LOAN</th>\n",
       "      <td>5.078875e-07</td>\n",
       "      <td>NaN</td>\n",
       "      <td>NaN</td>\n",
       "    </tr>\n",
       "    <tr>\n",
       "      <th>BILLS_UTILITIES</th>\n",
       "      <td>5.078875e-07</td>\n",
       "      <td>0.000035</td>\n",
       "      <td>0.000034</td>\n",
       "    </tr>\n",
       "    <tr>\n",
       "      <th>BNPL</th>\n",
       "      <td>4.819852e-04</td>\n",
       "      <td>0.000945</td>\n",
       "      <td>0.000463</td>\n",
       "    </tr>\n",
       "    <tr>\n",
       "      <th>CHILD_DEPENDENTS</th>\n",
       "      <td>4.103731e-04</td>\n",
       "      <td>0.000204</td>\n",
       "      <td>0.000207</td>\n",
       "    </tr>\n",
       "    <tr>\n",
       "      <th>CREDIT_CARD_PAYMENT</th>\n",
       "      <td>2.822128e-02</td>\n",
       "      <td>0.031724</td>\n",
       "      <td>0.003503</td>\n",
       "    </tr>\n",
       "    <tr>\n",
       "      <th>EDUCATION</th>\n",
       "      <td>1.694821e-03</td>\n",
       "      <td>0.001849</td>\n",
       "      <td>0.000154</td>\n",
       "    </tr>\n",
       "    <tr>\n",
       "      <th>ENTERTAINMENT</th>\n",
       "      <td>3.051794e-02</td>\n",
       "      <td>0.033087</td>\n",
       "      <td>0.002569</td>\n",
       "    </tr>\n",
       "    <tr>\n",
       "      <th>ESSENTIAL_SERVICES</th>\n",
       "      <td>2.932288e-02</td>\n",
       "      <td>0.030868</td>\n",
       "      <td>0.001545</td>\n",
       "    </tr>\n",
       "    <tr>\n",
       "      <th>EXTERNAL_TRANSFER</th>\n",
       "      <td>1.235416e-01</td>\n",
       "      <td>0.123701</td>\n",
       "      <td>0.000159</td>\n",
       "    </tr>\n",
       "    <tr>\n",
       "      <th>FOOD_AND_BEVERAGES</th>\n",
       "      <td>1.885761e-01</td>\n",
       "      <td>0.176119</td>\n",
       "      <td>0.012457</td>\n",
       "    </tr>\n",
       "    <tr>\n",
       "      <th>GENERAL_MERCHANDISE</th>\n",
       "      <td>2.041413e-01</td>\n",
       "      <td>0.194291</td>\n",
       "      <td>0.009851</td>\n",
       "    </tr>\n",
       "    <tr>\n",
       "      <th>GIFTS_DONATIONS</th>\n",
       "      <td>1.770496e-03</td>\n",
       "      <td>0.001962</td>\n",
       "      <td>0.000191</td>\n",
       "    </tr>\n",
       "    <tr>\n",
       "      <th>GROCERIES</th>\n",
       "      <td>8.299491e-02</td>\n",
       "      <td>0.088965</td>\n",
       "      <td>0.005970</td>\n",
       "    </tr>\n",
       "    <tr>\n",
       "      <th>HEALTHCARE_MEDICAL</th>\n",
       "      <td>1.487704e-02</td>\n",
       "      <td>0.018376</td>\n",
       "      <td>0.003499</td>\n",
       "    </tr>\n",
       "    <tr>\n",
       "      <th>HOME_IMPROVEMENT</th>\n",
       "      <td>3.160076e-03</td>\n",
       "      <td>0.003783</td>\n",
       "      <td>0.000623</td>\n",
       "    </tr>\n",
       "    <tr>\n",
       "      <th>INSURANCE</th>\n",
       "      <td>1.155850e-02</td>\n",
       "      <td>0.011910</td>\n",
       "      <td>0.000351</td>\n",
       "    </tr>\n",
       "    <tr>\n",
       "      <th>LOAN</th>\n",
       "      <td>3.510214e-02</td>\n",
       "      <td>0.034732</td>\n",
       "      <td>0.000370</td>\n",
       "    </tr>\n",
       "    <tr>\n",
       "      <th>MORTGAGE</th>\n",
       "      <td>4.017390e-04</td>\n",
       "      <td>0.000522</td>\n",
       "      <td>0.000120</td>\n",
       "    </tr>\n",
       "    <tr>\n",
       "      <th>OVERDRAFT</th>\n",
       "      <td>1.268703e-03</td>\n",
       "      <td>0.001413</td>\n",
       "      <td>0.000144</td>\n",
       "    </tr>\n",
       "    <tr>\n",
       "      <th>PAYCHECK</th>\n",
       "      <td>4.129125e-04</td>\n",
       "      <td>0.000361</td>\n",
       "      <td>0.000052</td>\n",
       "    </tr>\n",
       "    <tr>\n",
       "      <th>PETS</th>\n",
       "      <td>3.552165e-03</td>\n",
       "      <td>0.003615</td>\n",
       "      <td>0.000063</td>\n",
       "    </tr>\n",
       "    <tr>\n",
       "      <th>RENT</th>\n",
       "      <td>1.173220e-03</td>\n",
       "      <td>0.001332</td>\n",
       "      <td>0.000158</td>\n",
       "    </tr>\n",
       "    <tr>\n",
       "      <th>SELF_TRANSFER</th>\n",
       "      <td>2.836196e-02</td>\n",
       "      <td>0.027743</td>\n",
       "      <td>0.000619</td>\n",
       "    </tr>\n",
       "    <tr>\n",
       "      <th>TAX</th>\n",
       "      <td>1.193536e-03</td>\n",
       "      <td>0.001330</td>\n",
       "      <td>0.000137</td>\n",
       "    </tr>\n",
       "    <tr>\n",
       "      <th>TRAVEL</th>\n",
       "      <td>2.396416e-02</td>\n",
       "      <td>0.019828</td>\n",
       "      <td>0.004136</td>\n",
       "    </tr>\n",
       "    <tr>\n",
       "      <th>UNCATEGORIZED</th>\n",
       "      <td>4.454224e-02</td>\n",
       "      <td>0.047264</td>\n",
       "      <td>0.002722</td>\n",
       "    </tr>\n",
       "  </tbody>\n",
       "</table>\n",
       "</div>"
      ],
      "text/plain": [
       "                            train      test  absolute_diff\n",
       "category                                                  \n",
       "ACCOUNT_FEES         1.405071e-02  0.015665       0.001614\n",
       "ATM_CASH             4.320650e-02  0.051834       0.008627\n",
       "AUTOMOTIVE           8.149969e-02  0.076543       0.004957\n",
       "AUTO_LOAN            5.078875e-07       NaN            NaN\n",
       "BILLS_UTILITIES      5.078875e-07  0.000035       0.000034\n",
       "BNPL                 4.819852e-04  0.000945       0.000463\n",
       "CHILD_DEPENDENTS     4.103731e-04  0.000204       0.000207\n",
       "CREDIT_CARD_PAYMENT  2.822128e-02  0.031724       0.003503\n",
       "EDUCATION            1.694821e-03  0.001849       0.000154\n",
       "ENTERTAINMENT        3.051794e-02  0.033087       0.002569\n",
       "ESSENTIAL_SERVICES   2.932288e-02  0.030868       0.001545\n",
       "EXTERNAL_TRANSFER    1.235416e-01  0.123701       0.000159\n",
       "FOOD_AND_BEVERAGES   1.885761e-01  0.176119       0.012457\n",
       "GENERAL_MERCHANDISE  2.041413e-01  0.194291       0.009851\n",
       "GIFTS_DONATIONS      1.770496e-03  0.001962       0.000191\n",
       "GROCERIES            8.299491e-02  0.088965       0.005970\n",
       "HEALTHCARE_MEDICAL   1.487704e-02  0.018376       0.003499\n",
       "HOME_IMPROVEMENT     3.160076e-03  0.003783       0.000623\n",
       "INSURANCE            1.155850e-02  0.011910       0.000351\n",
       "LOAN                 3.510214e-02  0.034732       0.000370\n",
       "MORTGAGE             4.017390e-04  0.000522       0.000120\n",
       "OVERDRAFT            1.268703e-03  0.001413       0.000144\n",
       "PAYCHECK             4.129125e-04  0.000361       0.000052\n",
       "PETS                 3.552165e-03  0.003615       0.000063\n",
       "RENT                 1.173220e-03  0.001332       0.000158\n",
       "SELF_TRANSFER        2.836196e-02  0.027743       0.000619\n",
       "TAX                  1.193536e-03  0.001330       0.000137\n",
       "TRAVEL               2.396416e-02  0.019828       0.004136\n",
       "UNCATEGORIZED        4.454224e-02  0.047264       0.002722"
      ]
     },
     "execution_count": 22,
     "metadata": {},
     "output_type": "execute_result"
    }
   ],
   "source": [
    "# Comparing category distribution between sets\n",
    "out_cat_distribution = pd.DataFrame({\n",
    "    'train': outflows_train_df['category'].value_counts(normalize=True),\n",
    "    'test':  outflows_test_df['category'].value_counts(normalize=True)\n",
    "})\n",
    "out_cat_distribution['absolute_diff'] = (out_cat_distribution['train'] - out_cat_distribution['test']).abs()\n",
    "\n",
    "out_cat_distribution"
   ]
  },
  {
   "cell_type": "markdown",
   "id": "65625e9c-19a1-43f5-b4bb-251877d142a4",
   "metadata": {},
   "source": [
    "### II. KS Sample\n",
    "Similar to the inflows splits, we conduced a twp-sample KS test. Because the KS statistic was small (0.046) and the p-value (0.173) is greater than > 0.05, this indicates that there is no significant difference between the distributions."
   ]
  },
  {
   "cell_type": "code",
   "execution_count": 23,
   "id": "3161d360-b380-42b0-a9e9-ce3316ef811d",
   "metadata": {},
   "outputs": [
    {
     "name": "stdout",
     "output_type": "stream",
     "text": [
      "KstestResult(statistic=0.04672057502246182, pvalue=0.1733501531105168, statistic_location=28.85, statistic_sign=1)\n"
     ]
    }
   ],
   "source": [
    "# Amount comparison\n",
    "out_train_median = outflows_train_df.groupby('prism_consumer_id')['amount'].median()\n",
    "out_test_median = outflows_test_df.groupby('prism_consumer_id')['amount'].median()\n",
    "\n",
    "print(ks_2samp(out_train_median, out_test_median))"
   ]
  },
  {
   "cell_type": "code",
   "execution_count": null,
   "id": "f34c7e52-77ed-4af7-8553-f6eade27c78e",
   "metadata": {},
   "outputs": [],
   "source": []
  }
 ],
 "metadata": {
  "kernelspec": {
   "display_name": "Python 3 (ipykernel)",
   "language": "python",
   "name": "python3"
  },
  "language_info": {
   "codemirror_mode": {
    "name": "ipython",
    "version": 3
   },
   "file_extension": ".py",
   "mimetype": "text/x-python",
   "name": "python",
   "nbconvert_exporter": "python",
   "pygments_lexer": "ipython3",
   "version": "3.11.9"
  }
 },
 "nbformat": 4,
 "nbformat_minor": 5
}
